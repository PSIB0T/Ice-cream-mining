{
 "cells": [
  {
   "cell_type": "code",
   "execution_count": 1,
   "metadata": {},
   "outputs": [],
   "source": [
    "import pandas as pd\n",
    "import numpy as np\n",
    "from itertools import chain\n",
    "from sklearn.preprocessing import LabelEncoder,Imputer"
   ]
  },
  {
   "cell_type": "code",
   "execution_count": 2,
   "metadata": {},
   "outputs": [],
   "source": [
    "df = pd.read_csv('./data/responses.csv')"
   ]
  },
  {
   "cell_type": "code",
   "execution_count": 3,
   "metadata": {
    "scrolled": true
   },
   "outputs": [
    {
     "data": {
      "text/html": [
       "<div>\n",
       "<style scoped>\n",
       "    .dataframe tbody tr th:only-of-type {\n",
       "        vertical-align: middle;\n",
       "    }\n",
       "\n",
       "    .dataframe tbody tr th {\n",
       "        vertical-align: top;\n",
       "    }\n",
       "\n",
       "    .dataframe thead th {\n",
       "        text-align: right;\n",
       "    }\n",
       "</style>\n",
       "<table border=\"1\" class=\"dataframe\">\n",
       "  <thead>\n",
       "    <tr style=\"text-align: right;\">\n",
       "      <th></th>\n",
       "      <th>Timestamp</th>\n",
       "      <th>Email Address</th>\n",
       "      <th>Name</th>\n",
       "      <th>Neighbourhood</th>\n",
       "      <th>Rating</th>\n",
       "      <th>Brands</th>\n",
       "      <th>Flavor</th>\n",
       "      <th>Packaging</th>\n",
       "      <th>Source</th>\n",
       "      <th>Type</th>\n",
       "      <th>Frequency</th>\n",
       "      <th>Price</th>\n",
       "      <th>Quality</th>\n",
       "      <th>Occasion</th>\n",
       "      <th>New_flavors</th>\n",
       "    </tr>\n",
       "  </thead>\n",
       "  <tbody>\n",
       "    <tr>\n",
       "      <th>0</th>\n",
       "      <td>2/6/2018 19:12:51</td>\n",
       "      <td>NaN</td>\n",
       "      <td>Neha Baranwal</td>\n",
       "      <td>Thane</td>\n",
       "      <td>10</td>\n",
       "      <td>Mother Dairy, Amul</td>\n",
       "      <td>Chocolate, Butterscotch</td>\n",
       "      <td>Cone</td>\n",
       "      <td>Supermarkets, Ice cream parlour/ restaurants</td>\n",
       "      <td>Unit</td>\n",
       "      <td>Once a week</td>\n",
       "      <td>7.0</td>\n",
       "      <td>10.0</td>\n",
       "      <td>5</td>\n",
       "      <td>5.0</td>\n",
       "    </tr>\n",
       "    <tr>\n",
       "      <th>1</th>\n",
       "      <td>2/6/2018 19:17:21</td>\n",
       "      <td>NaN</td>\n",
       "      <td>Arvind Narayanan</td>\n",
       "      <td>Chembur</td>\n",
       "      <td>8</td>\n",
       "      <td>Dinshaw’s, Amul, Kwality Walls</td>\n",
       "      <td>Chocolate, Vanilla, Butterscotch, Pistachio</td>\n",
       "      <td>Cone</td>\n",
       "      <td>Ice cream parlour/ restaurants, Minimart</td>\n",
       "      <td>Unit</td>\n",
       "      <td>Once a month</td>\n",
       "      <td>7.0</td>\n",
       "      <td>8.0</td>\n",
       "      <td>10</td>\n",
       "      <td>4.0</td>\n",
       "    </tr>\n",
       "    <tr>\n",
       "      <th>2</th>\n",
       "      <td>2/6/2018 21:01:58</td>\n",
       "      <td>2015bhavika.adnani@ves.ac.in</td>\n",
       "      <td>Bhavika</td>\n",
       "      <td>Thane</td>\n",
       "      <td>8</td>\n",
       "      <td>Baskin-Robbins, Amul, Kwality Walls</td>\n",
       "      <td>Chocolate, Vanilla, Coffee</td>\n",
       "      <td>Cone</td>\n",
       "      <td>Ice cream parlour/ restaurants, Ice cream cart...</td>\n",
       "      <td>Unit</td>\n",
       "      <td>Once a month</td>\n",
       "      <td>1.0</td>\n",
       "      <td>10.0</td>\n",
       "      <td>8</td>\n",
       "      <td>6.0</td>\n",
       "    </tr>\n",
       "    <tr>\n",
       "      <th>3</th>\n",
       "      <td>2/6/2018 21:02:15</td>\n",
       "      <td>2015mayank.agrawal@ves.ac.in</td>\n",
       "      <td>Mayank Agrawal</td>\n",
       "      <td>Chembur</td>\n",
       "      <td>9</td>\n",
       "      <td>Baskin-Robbins, Amul, Creambell</td>\n",
       "      <td>Chocolate, Butterscotch</td>\n",
       "      <td>Cone</td>\n",
       "      <td>Ice cream parlour/ restaurants</td>\n",
       "      <td>Unit</td>\n",
       "      <td>Once a month</td>\n",
       "      <td>2.0</td>\n",
       "      <td>10.0</td>\n",
       "      <td>9</td>\n",
       "      <td>4.0</td>\n",
       "    </tr>\n",
       "    <tr>\n",
       "      <th>4</th>\n",
       "      <td>2/6/2018 21:09:39</td>\n",
       "      <td>2015bhuvanesh.goplani@ves.ac.in</td>\n",
       "      <td>Bhuvanesh Goplani</td>\n",
       "      <td>Chembur</td>\n",
       "      <td>4</td>\n",
       "      <td>Baskin-Robbins, Home made</td>\n",
       "      <td>Vanilla, Strawberry, Butterscotch</td>\n",
       "      <td>Tub</td>\n",
       "      <td>Ice cream parlour/ restaurants</td>\n",
       "      <td>Unit</td>\n",
       "      <td>Once a month</td>\n",
       "      <td>3.0</td>\n",
       "      <td>10.0</td>\n",
       "      <td>6</td>\n",
       "      <td>5.0</td>\n",
       "    </tr>\n",
       "  </tbody>\n",
       "</table>\n",
       "</div>"
      ],
      "text/plain": [
       "           Timestamp                    Email Address               Name  \\\n",
       "0  2/6/2018 19:12:51                              NaN      Neha Baranwal   \n",
       "1  2/6/2018 19:17:21                              NaN   Arvind Narayanan   \n",
       "2  2/6/2018 21:01:58     2015bhavika.adnani@ves.ac.in           Bhavika    \n",
       "3  2/6/2018 21:02:15     2015mayank.agrawal@ves.ac.in     Mayank Agrawal   \n",
       "4  2/6/2018 21:09:39  2015bhuvanesh.goplani@ves.ac.in  Bhuvanesh Goplani   \n",
       "\n",
       "  Neighbourhood  Rating                               Brands  \\\n",
       "0         Thane      10                   Mother Dairy, Amul   \n",
       "1       Chembur       8       Dinshaw’s, Amul, Kwality Walls   \n",
       "2         Thane       8  Baskin-Robbins, Amul, Kwality Walls   \n",
       "3       Chembur       9      Baskin-Robbins, Amul, Creambell   \n",
       "4       Chembur       4            Baskin-Robbins, Home made   \n",
       "\n",
       "                                        Flavor Packaging  \\\n",
       "0                      Chocolate, Butterscotch      Cone   \n",
       "1  Chocolate, Vanilla, Butterscotch, Pistachio      Cone   \n",
       "2                   Chocolate, Vanilla, Coffee      Cone   \n",
       "3                      Chocolate, Butterscotch      Cone   \n",
       "4            Vanilla, Strawberry, Butterscotch       Tub   \n",
       "\n",
       "                                              Source  Type     Frequency  \\\n",
       "0       Supermarkets, Ice cream parlour/ restaurants  Unit   Once a week   \n",
       "1           Ice cream parlour/ restaurants, Minimart  Unit  Once a month   \n",
       "2  Ice cream parlour/ restaurants, Ice cream cart...  Unit  Once a month   \n",
       "3                     Ice cream parlour/ restaurants  Unit  Once a month   \n",
       "4                     Ice cream parlour/ restaurants  Unit  Once a month   \n",
       "\n",
       "   Price  Quality  Occasion  New_flavors  \n",
       "0    7.0     10.0         5          5.0  \n",
       "1    7.0      8.0        10          4.0  \n",
       "2    1.0     10.0         8          6.0  \n",
       "3    2.0     10.0         9          4.0  \n",
       "4    3.0     10.0         6          5.0  "
      ]
     },
     "execution_count": 3,
     "metadata": {},
     "output_type": "execute_result"
    }
   ],
   "source": [
    "df.head()"
   ]
  },
  {
   "cell_type": "markdown",
   "metadata": {},
   "source": [
    "## Preprocessing"
   ]
  },
  {
   "cell_type": "markdown",
   "metadata": {},
   "source": [
    "### Removing redundant columns"
   ]
  },
  {
   "cell_type": "code",
   "execution_count": 4,
   "metadata": {},
   "outputs": [
    {
     "data": {
      "text/plain": [
       "Index(['Timestamp', 'Email Address', 'Name', 'Neighbourhood', 'Rating',\n",
       "       'Brands', 'Flavor', 'Packaging', 'Source', 'Type', 'Frequency', 'Price',\n",
       "       'Quality', 'Occasion', 'New_flavors'],\n",
       "      dtype='object')"
      ]
     },
     "execution_count": 4,
     "metadata": {},
     "output_type": "execute_result"
    }
   ],
   "source": [
    "df.columns"
   ]
  },
  {
   "cell_type": "code",
   "execution_count": 5,
   "metadata": {},
   "outputs": [],
   "source": [
    "df = df.drop(['Timestamp', 'Email Address', 'Name'], 1)"
   ]
  },
  {
   "cell_type": "markdown",
   "metadata": {},
   "source": [
    "### Dealing with null values"
   ]
  },
  {
   "cell_type": "code",
   "execution_count": 6,
   "metadata": {},
   "outputs": [
    {
     "data": {
      "text/plain": [
       "Neighbourhood    6\n",
       "Rating           0\n",
       "Brands           1\n",
       "Flavor           0\n",
       "Packaging        0\n",
       "Source           1\n",
       "Type             1\n",
       "Frequency        1\n",
       "Price            1\n",
       "Quality          2\n",
       "Occasion         0\n",
       "New_flavors      1\n",
       "dtype: int64"
      ]
     },
     "execution_count": 6,
     "metadata": {},
     "output_type": "execute_result"
    }
   ],
   "source": [
    "df.isnull().sum()"
   ]
  },
  {
   "cell_type": "code",
   "execution_count": 7,
   "metadata": {},
   "outputs": [
    {
     "name": "stderr",
     "output_type": "stream",
     "text": [
      "/home/onkar0027/miniconda3/lib/python3.6/site-packages/ipykernel_launcher.py:1: SettingWithCopyWarning: \n",
      "A value is trying to be set on a copy of a slice from a DataFrame\n",
      "\n",
      "See the caveats in the documentation: http://pandas.pydata.org/pandas-docs/stable/indexing.html#indexing-view-versus-copy\n",
      "  \"\"\"Entry point for launching an IPython kernel.\n"
     ]
    }
   ],
   "source": [
    "df.Neighbourhood[df.Neighbourhood.isnull()] = 'NaN'"
   ]
  },
  {
   "cell_type": "code",
   "execution_count": 8,
   "metadata": {},
   "outputs": [
    {
     "data": {
      "text/plain": [
       "0               thane\n",
       "1             chembur\n",
       "2               thane\n",
       "3             chembur\n",
       "4             chembur\n",
       "5          ulhasnagar\n",
       "6             chembur\n",
       "7          ulhasnagar\n",
       "8             chembur\n",
       "9          ulhasnagar\n",
       "10            chembur\n",
       "11            chembur\n",
       "12            chembur\n",
       "13    vikholri,mumbai\n",
       "14         ulhasnagar\n",
       "15              thane\n",
       "16             kalyan\n",
       "17         kanjurmarg\n",
       "18            chembur\n",
       "19         ulhasnagar\n",
       "20            chembur\n",
       "21            chembur\n",
       "22                nan\n",
       "23             kalyan\n",
       "24              dadar\n",
       "25         ulhasnagar\n",
       "26         california\n",
       "27         vile parle\n",
       "28           dombivli\n",
       "29          ghatkopar\n",
       "30            chembur\n",
       "31          ghatkopar\n",
       "32         ulhasnagar\n",
       "33        lower parel\n",
       "34              thane\n",
       "35            govandi\n",
       "36                nan\n",
       "37              kurla\n",
       "38              thane\n",
       "39              thane\n",
       "40            chembur\n",
       "41              nerul\n",
       "42            chembur\n",
       "43              thane\n",
       "44              thane\n",
       "45             kalyan\n",
       "46                nan\n",
       "47                nan\n",
       "48                nan\n",
       "49              thane\n",
       "50             panvel\n",
       "51           dombivli\n",
       "52            chembur\n",
       "53           asangaon\n",
       "54                nan\n",
       "55         ulhasnagar\n",
       "56              thane\n",
       "57         ulhasnagar\n",
       "Name: Neighbourhood, dtype: object"
      ]
     },
     "execution_count": 8,
     "metadata": {},
     "output_type": "execute_result"
    }
   ],
   "source": [
    "df.Neighbourhood = df.Neighbourhood.str.lower().str.strip()\n",
    "df.Neighbourhood"
   ]
  },
  {
   "cell_type": "code",
   "execution_count": 9,
   "metadata": {},
   "outputs": [],
   "source": [
    "le = LabelEncoder()"
   ]
  },
  {
   "cell_type": "code",
   "execution_count": 10,
   "metadata": {
    "scrolled": true
   },
   "outputs": [
    {
     "data": {
      "text/html": [
       "<div>\n",
       "<style scoped>\n",
       "    .dataframe tbody tr th:only-of-type {\n",
       "        vertical-align: middle;\n",
       "    }\n",
       "\n",
       "    .dataframe tbody tr th {\n",
       "        vertical-align: top;\n",
       "    }\n",
       "\n",
       "    .dataframe thead th {\n",
       "        text-align: right;\n",
       "    }\n",
       "</style>\n",
       "<table border=\"1\" class=\"dataframe\">\n",
       "  <thead>\n",
       "    <tr style=\"text-align: right;\">\n",
       "      <th></th>\n",
       "      <th>Neighbourhood</th>\n",
       "      <th>Rating</th>\n",
       "      <th>Brands</th>\n",
       "      <th>Flavor</th>\n",
       "      <th>Packaging</th>\n",
       "      <th>Source</th>\n",
       "      <th>Type</th>\n",
       "      <th>Frequency</th>\n",
       "      <th>Price</th>\n",
       "      <th>Quality</th>\n",
       "      <th>Occasion</th>\n",
       "      <th>New_flavors</th>\n",
       "    </tr>\n",
       "  </thead>\n",
       "  <tbody>\n",
       "    <tr>\n",
       "      <th>22</th>\n",
       "      <td>nan</td>\n",
       "      <td>8</td>\n",
       "      <td>Baskin-Robbins, Mother Dairy, Amul, Vadilal</td>\n",
       "      <td>Chocolate, Coffee, Mint</td>\n",
       "      <td>Cone</td>\n",
       "      <td>NaN</td>\n",
       "      <td>NaN</td>\n",
       "      <td>Once a week</td>\n",
       "      <td>8.0</td>\n",
       "      <td>10.0</td>\n",
       "      <td>10</td>\n",
       "      <td>10.0</td>\n",
       "    </tr>\n",
       "    <tr>\n",
       "      <th>36</th>\n",
       "      <td>nan</td>\n",
       "      <td>8</td>\n",
       "      <td>Baskin-Robbins, Mother Dairy, Dinshaw’s, Havmo...</td>\n",
       "      <td>Chocolate, Butterscotch, Coffee, Pistachio</td>\n",
       "      <td>Cone</td>\n",
       "      <td>Supermarkets, Ice cream parlour/ restaurants, ...</td>\n",
       "      <td>Unit</td>\n",
       "      <td>3-4 times a week</td>\n",
       "      <td>8.0</td>\n",
       "      <td>9.0</td>\n",
       "      <td>8</td>\n",
       "      <td>9.0</td>\n",
       "    </tr>\n",
       "    <tr>\n",
       "      <th>46</th>\n",
       "      <td>nan</td>\n",
       "      <td>9</td>\n",
       "      <td>Amul</td>\n",
       "      <td>Chocolate, Butterscotch</td>\n",
       "      <td>Cone</td>\n",
       "      <td>Ice cream parlour/ restaurants</td>\n",
       "      <td>Bulk</td>\n",
       "      <td>Once a week</td>\n",
       "      <td>5.0</td>\n",
       "      <td>10.0</td>\n",
       "      <td>5</td>\n",
       "      <td>5.0</td>\n",
       "    </tr>\n",
       "    <tr>\n",
       "      <th>47</th>\n",
       "      <td>nan</td>\n",
       "      <td>8</td>\n",
       "      <td>Dinshaw’s, Amul</td>\n",
       "      <td>Chocolate, Butterscotch</td>\n",
       "      <td>Cone</td>\n",
       "      <td>Ice cream parlour/ restaurants</td>\n",
       "      <td>Unit</td>\n",
       "      <td>Once a month</td>\n",
       "      <td>5.0</td>\n",
       "      <td>8.0</td>\n",
       "      <td>3</td>\n",
       "      <td>5.0</td>\n",
       "    </tr>\n",
       "    <tr>\n",
       "      <th>48</th>\n",
       "      <td>nan</td>\n",
       "      <td>6</td>\n",
       "      <td>Baskin-Robbins</td>\n",
       "      <td>Chocolate, Vanilla, Strawberry, Butterscotch, ...</td>\n",
       "      <td>Cone</td>\n",
       "      <td>Convenience Stores</td>\n",
       "      <td>Unit</td>\n",
       "      <td>Once a month</td>\n",
       "      <td>10.0</td>\n",
       "      <td>10.0</td>\n",
       "      <td>10</td>\n",
       "      <td>10.0</td>\n",
       "    </tr>\n",
       "    <tr>\n",
       "      <th>54</th>\n",
       "      <td>nan</td>\n",
       "      <td>10</td>\n",
       "      <td>Baskin-Robbins, Amul, Vadilal</td>\n",
       "      <td>Chocolate, Coffee, Pistachio</td>\n",
       "      <td>Cone</td>\n",
       "      <td>Ice cream parlour/ restaurants</td>\n",
       "      <td>Bulk</td>\n",
       "      <td>3-4 times a week</td>\n",
       "      <td>1.0</td>\n",
       "      <td>10.0</td>\n",
       "      <td>5</td>\n",
       "      <td>5.0</td>\n",
       "    </tr>\n",
       "  </tbody>\n",
       "</table>\n",
       "</div>"
      ],
      "text/plain": [
       "   Neighbourhood  Rating                                             Brands  \\\n",
       "22           nan       8        Baskin-Robbins, Mother Dairy, Amul, Vadilal   \n",
       "36           nan       8  Baskin-Robbins, Mother Dairy, Dinshaw’s, Havmo...   \n",
       "46           nan       9                                               Amul   \n",
       "47           nan       8                                    Dinshaw’s, Amul   \n",
       "48           nan       6                                     Baskin-Robbins   \n",
       "54           nan      10                      Baskin-Robbins, Amul, Vadilal   \n",
       "\n",
       "                                               Flavor Packaging  \\\n",
       "22                            Chocolate, Coffee, Mint      Cone   \n",
       "36         Chocolate, Butterscotch, Coffee, Pistachio      Cone   \n",
       "46                            Chocolate, Butterscotch      Cone   \n",
       "47                            Chocolate, Butterscotch      Cone   \n",
       "48  Chocolate, Vanilla, Strawberry, Butterscotch, ...      Cone   \n",
       "54                       Chocolate, Coffee, Pistachio      Cone   \n",
       "\n",
       "                                               Source  Type         Frequency  \\\n",
       "22                                                NaN   NaN       Once a week   \n",
       "36  Supermarkets, Ice cream parlour/ restaurants, ...  Unit  3-4 times a week   \n",
       "46                     Ice cream parlour/ restaurants  Bulk       Once a week   \n",
       "47                     Ice cream parlour/ restaurants  Unit      Once a month   \n",
       "48                                 Convenience Stores  Unit      Once a month   \n",
       "54                     Ice cream parlour/ restaurants  Bulk  3-4 times a week   \n",
       "\n",
       "    Price  Quality  Occasion  New_flavors  \n",
       "22    8.0     10.0        10         10.0  \n",
       "36    8.0      9.0         8          9.0  \n",
       "46    5.0     10.0         5          5.0  \n",
       "47    5.0      8.0         3          5.0  \n",
       "48   10.0     10.0        10         10.0  \n",
       "54    1.0     10.0         5          5.0  "
      ]
     },
     "execution_count": 10,
     "metadata": {},
     "output_type": "execute_result"
    }
   ],
   "source": [
    "df[df.Neighbourhood == 'nan']"
   ]
  },
  {
   "cell_type": "code",
   "execution_count": 11,
   "metadata": {},
   "outputs": [],
   "source": [
    "df.Neighbourhood = le.fit_transform(df.Neighbourhood.values)"
   ]
  },
  {
   "cell_type": "code",
   "execution_count": 12,
   "metadata": {
    "scrolled": false
   },
   "outputs": [
    {
     "name": "stderr",
     "output_type": "stream",
     "text": [
      "/home/onkar0027/miniconda3/lib/python3.6/site-packages/ipykernel_launcher.py:1: SettingWithCopyWarning: \n",
      "A value is trying to be set on a copy of a slice from a DataFrame\n",
      "\n",
      "See the caveats in the documentation: http://pandas.pydata.org/pandas-docs/stable/indexing.html#indexing-view-versus-copy\n",
      "  \"\"\"Entry point for launching an IPython kernel.\n"
     ]
    }
   ],
   "source": [
    "df.Neighbourhood[df.Neighbourhood == 11] = np.nan"
   ]
  },
  {
   "cell_type": "code",
   "execution_count": 13,
   "metadata": {},
   "outputs": [
    {
     "data": {
      "text/plain": [
       "0     14.0\n",
       "1      2.0\n",
       "2     14.0\n",
       "3      2.0\n",
       "4      2.0\n",
       "5     15.0\n",
       "6      2.0\n",
       "7     15.0\n",
       "8      2.0\n",
       "9     15.0\n",
       "10     2.0\n",
       "11     2.0\n",
       "12     2.0\n",
       "13    16.0\n",
       "14    15.0\n",
       "15    14.0\n",
       "16     7.0\n",
       "17     8.0\n",
       "18     2.0\n",
       "19    15.0\n",
       "20     2.0\n",
       "21     2.0\n",
       "22     NaN\n",
       "23     7.0\n",
       "24     3.0\n",
       "25    15.0\n",
       "26     1.0\n",
       "27    17.0\n",
       "28     4.0\n",
       "29     5.0\n",
       "30     2.0\n",
       "31     5.0\n",
       "32    15.0\n",
       "33    10.0\n",
       "34    14.0\n",
       "35     6.0\n",
       "36     NaN\n",
       "37     9.0\n",
       "38    14.0\n",
       "39    14.0\n",
       "40     2.0\n",
       "41    12.0\n",
       "42     2.0\n",
       "43    14.0\n",
       "44    14.0\n",
       "45     7.0\n",
       "46     NaN\n",
       "47     NaN\n",
       "48     NaN\n",
       "49    14.0\n",
       "50    13.0\n",
       "51     4.0\n",
       "52     2.0\n",
       "53     0.0\n",
       "54     NaN\n",
       "55    15.0\n",
       "56    14.0\n",
       "57    15.0\n",
       "Name: Neighbourhood, dtype: float64"
      ]
     },
     "execution_count": 13,
     "metadata": {},
     "output_type": "execute_result"
    }
   ],
   "source": [
    "df.Neighbourhood"
   ]
  },
  {
   "cell_type": "code",
   "execution_count": 14,
   "metadata": {},
   "outputs": [
    {
     "data": {
      "text/plain": [
       "0"
      ]
     },
     "execution_count": 14,
     "metadata": {},
     "output_type": "execute_result"
    }
   ],
   "source": [
    "imp = Imputer(missing_values='NaN', strategy='most_frequent', axis=0)\n",
    "df[\"Neighbourhood\"]=imp.fit_transform(df[[\"Neighbourhood\"]])\n",
    "\n",
    "df.Neighbourhood.isnull().sum()"
   ]
  },
  {
   "cell_type": "markdown",
   "metadata": {},
   "source": [
    "### Splitting multivalued attribues"
   ]
  },
  {
   "cell_type": "code",
   "execution_count": 20,
   "metadata": {},
   "outputs": [],
   "source": [
    "brand_columns = [brand.split(\", \") for brand in df['Brands'] if type(brand) != float] "
   ]
  },
  {
   "cell_type": "code",
   "execution_count": 22,
   "metadata": {},
   "outputs": [],
   "source": [
    "brands = list(set(chain.from_iterable(brand_columns)))"
   ]
  },
  {
   "cell_type": "code",
   "execution_count": 23,
   "metadata": {},
   "outputs": [],
   "source": [
    "brandDict = {}\n",
    "for brand in brands:\n",
    "    brandDict[brand] = []"
   ]
  },
  {
   "cell_type": "code",
   "execution_count": 24,
   "metadata": {},
   "outputs": [
    {
     "data": {
      "text/plain": [
       "{'Amul': [],\n",
       " 'Baskin-Robbins': [],\n",
       " 'Creambell': [],\n",
       " 'Dinshaw’s': [],\n",
       " 'Gelato Italiano ': [],\n",
       " 'Havmor': [],\n",
       " 'Home made': [],\n",
       " 'Kwality Walls': [],\n",
       " 'Local Icecream shops': [],\n",
       " 'London Dairy': [],\n",
       " 'London Dairy ': [],\n",
       " 'Mother Dairy': [],\n",
       " 'Naturals': [],\n",
       " 'Vadilal': [],\n",
       " 'any brand ': [],\n",
       " 'patanjali icecreame': []}"
      ]
     },
     "execution_count": 24,
     "metadata": {},
     "output_type": "execute_result"
    }
   ],
   "source": [
    "brandDict"
   ]
  },
  {
   "cell_type": "markdown",
   "metadata": {},
   "source": [
    "### Label encoding and one hot encoding"
   ]
  },
  {
   "cell_type": "markdown",
   "metadata": {},
   "source": [
    "## Visualization"
   ]
  },
  {
   "cell_type": "markdown",
   "metadata": {},
   "source": [
    "### Location wise distribution of flavors and brands"
   ]
  },
  {
   "cell_type": "markdown",
   "metadata": {},
   "source": [
    "### Area wise dominating factor"
   ]
  },
  {
   "cell_type": "markdown",
   "metadata": {},
   "source": [
    "### Brand vs like-scale mapping"
   ]
  },
  {
   "cell_type": "markdown",
   "metadata": {},
   "source": [
    "### Source vs Location"
   ]
  },
  {
   "cell_type": "markdown",
   "metadata": {},
   "source": [
    "### Brand vs Flavor"
   ]
  },
  {
   "cell_type": "markdown",
   "metadata": {},
   "source": [
    "### Rating vs (Price, Quality, Occasion and )"
   ]
  },
  {
   "cell_type": "markdown",
   "metadata": {},
   "source": [
    "## Prediction"
   ]
  },
  {
   "cell_type": "code",
   "execution_count": null,
   "metadata": {},
   "outputs": [],
   "source": []
  }
 ],
 "metadata": {
  "kernelspec": {
   "display_name": "Python 3",
   "language": "python",
   "name": "python3"
  },
  "language_info": {
   "codemirror_mode": {
    "name": "ipython",
    "version": 3
   },
   "file_extension": ".py",
   "mimetype": "text/x-python",
   "name": "python",
   "nbconvert_exporter": "python",
   "pygments_lexer": "ipython3",
   "version": "3.6.4"
  }
 },
 "nbformat": 4,
 "nbformat_minor": 2
}
