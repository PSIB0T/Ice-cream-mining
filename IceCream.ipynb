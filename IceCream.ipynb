{
 "cells": [
  {
   "cell_type": "code",
   "execution_count": 97,
   "metadata": {},
   "outputs": [],
   "source": [
    "import pandas as pd\n",
    "import numpy as np\n",
    "import matplotlib.pyplot as plt\n",
    "import seaborn as sns\n",
    "from itertools import chain\n",
    "from sklearn.preprocessing import LabelEncoder,Imputer"
   ]
  },
  {
   "cell_type": "code",
   "execution_count": 98,
   "metadata": {},
   "outputs": [],
   "source": [
    "df = pd.read_csv('./data/responses.csv')"
   ]
  },
  {
   "cell_type": "code",
   "execution_count": 99,
   "metadata": {
    "scrolled": true
   },
   "outputs": [
    {
     "data": {
      "text/html": [
       "<div>\n",
       "<style scoped>\n",
       "    .dataframe tbody tr th:only-of-type {\n",
       "        vertical-align: middle;\n",
       "    }\n",
       "\n",
       "    .dataframe tbody tr th {\n",
       "        vertical-align: top;\n",
       "    }\n",
       "\n",
       "    .dataframe thead th {\n",
       "        text-align: right;\n",
       "    }\n",
       "</style>\n",
       "<table border=\"1\" class=\"dataframe\">\n",
       "  <thead>\n",
       "    <tr style=\"text-align: right;\">\n",
       "      <th></th>\n",
       "      <th>Timestamp</th>\n",
       "      <th>Email Address</th>\n",
       "      <th>Name</th>\n",
       "      <th>Neighbourhood</th>\n",
       "      <th>Rating</th>\n",
       "      <th>Brands</th>\n",
       "      <th>Flavor</th>\n",
       "      <th>Packaging</th>\n",
       "      <th>Source</th>\n",
       "      <th>Type</th>\n",
       "      <th>Frequency</th>\n",
       "      <th>Price</th>\n",
       "      <th>Quality</th>\n",
       "      <th>Occasion</th>\n",
       "      <th>New_flavors</th>\n",
       "    </tr>\n",
       "  </thead>\n",
       "  <tbody>\n",
       "    <tr>\n",
       "      <th>0</th>\n",
       "      <td>2/6/2018 19:12:51</td>\n",
       "      <td>NaN</td>\n",
       "      <td>Neha Baranwal</td>\n",
       "      <td>Thane</td>\n",
       "      <td>10</td>\n",
       "      <td>Mother Dairy, Amul</td>\n",
       "      <td>Chocolate, Butterscotch</td>\n",
       "      <td>Cone</td>\n",
       "      <td>Supermarkets, Ice cream parlour/ restaurants</td>\n",
       "      <td>Unit</td>\n",
       "      <td>Once a week</td>\n",
       "      <td>7.0</td>\n",
       "      <td>10.0</td>\n",
       "      <td>5</td>\n",
       "      <td>5.0</td>\n",
       "    </tr>\n",
       "    <tr>\n",
       "      <th>1</th>\n",
       "      <td>2/6/2018 19:17:21</td>\n",
       "      <td>NaN</td>\n",
       "      <td>Arvind Narayanan</td>\n",
       "      <td>Chembur</td>\n",
       "      <td>8</td>\n",
       "      <td>Dinshaw’s, Amul, Kwality Walls</td>\n",
       "      <td>Chocolate, Vanilla, Butterscotch, Pistachio</td>\n",
       "      <td>Cone</td>\n",
       "      <td>Ice cream parlour/ restaurants, Minimart</td>\n",
       "      <td>Unit</td>\n",
       "      <td>Once a month</td>\n",
       "      <td>7.0</td>\n",
       "      <td>8.0</td>\n",
       "      <td>10</td>\n",
       "      <td>4.0</td>\n",
       "    </tr>\n",
       "    <tr>\n",
       "      <th>2</th>\n",
       "      <td>2/6/2018 21:01:58</td>\n",
       "      <td>2015bhavika.adnani@ves.ac.in</td>\n",
       "      <td>Bhavika</td>\n",
       "      <td>Thane</td>\n",
       "      <td>8</td>\n",
       "      <td>Baskin-Robbins, Amul, Kwality Walls</td>\n",
       "      <td>Chocolate, Vanilla, Coffee</td>\n",
       "      <td>Cone</td>\n",
       "      <td>Ice cream parlour/ restaurants, Ice cream cart...</td>\n",
       "      <td>Unit</td>\n",
       "      <td>Once a month</td>\n",
       "      <td>1.0</td>\n",
       "      <td>10.0</td>\n",
       "      <td>8</td>\n",
       "      <td>6.0</td>\n",
       "    </tr>\n",
       "    <tr>\n",
       "      <th>3</th>\n",
       "      <td>2/6/2018 21:02:15</td>\n",
       "      <td>2015mayank.agrawal@ves.ac.in</td>\n",
       "      <td>Mayank Agrawal</td>\n",
       "      <td>Chembur</td>\n",
       "      <td>9</td>\n",
       "      <td>Baskin-Robbins, Amul, Creambell</td>\n",
       "      <td>Chocolate, Butterscotch</td>\n",
       "      <td>Cone</td>\n",
       "      <td>Ice cream parlour/ restaurants</td>\n",
       "      <td>Unit</td>\n",
       "      <td>Once a month</td>\n",
       "      <td>2.0</td>\n",
       "      <td>10.0</td>\n",
       "      <td>9</td>\n",
       "      <td>4.0</td>\n",
       "    </tr>\n",
       "    <tr>\n",
       "      <th>4</th>\n",
       "      <td>2/6/2018 21:09:39</td>\n",
       "      <td>2015bhuvanesh.goplani@ves.ac.in</td>\n",
       "      <td>Bhuvanesh Goplani</td>\n",
       "      <td>Chembur</td>\n",
       "      <td>4</td>\n",
       "      <td>Baskin-Robbins, Home made</td>\n",
       "      <td>Vanilla, Strawberry, Butterscotch</td>\n",
       "      <td>Tub</td>\n",
       "      <td>Ice cream parlour/ restaurants</td>\n",
       "      <td>Unit</td>\n",
       "      <td>Once a month</td>\n",
       "      <td>3.0</td>\n",
       "      <td>10.0</td>\n",
       "      <td>6</td>\n",
       "      <td>5.0</td>\n",
       "    </tr>\n",
       "  </tbody>\n",
       "</table>\n",
       "</div>"
      ],
      "text/plain": [
       "           Timestamp                    Email Address               Name  \\\n",
       "0  2/6/2018 19:12:51                              NaN      Neha Baranwal   \n",
       "1  2/6/2018 19:17:21                              NaN   Arvind Narayanan   \n",
       "2  2/6/2018 21:01:58     2015bhavika.adnani@ves.ac.in           Bhavika    \n",
       "3  2/6/2018 21:02:15     2015mayank.agrawal@ves.ac.in     Mayank Agrawal   \n",
       "4  2/6/2018 21:09:39  2015bhuvanesh.goplani@ves.ac.in  Bhuvanesh Goplani   \n",
       "\n",
       "  Neighbourhood  Rating                               Brands  \\\n",
       "0         Thane      10                   Mother Dairy, Amul   \n",
       "1       Chembur       8       Dinshaw’s, Amul, Kwality Walls   \n",
       "2         Thane       8  Baskin-Robbins, Amul, Kwality Walls   \n",
       "3       Chembur       9      Baskin-Robbins, Amul, Creambell   \n",
       "4       Chembur       4            Baskin-Robbins, Home made   \n",
       "\n",
       "                                        Flavor Packaging  \\\n",
       "0                      Chocolate, Butterscotch      Cone   \n",
       "1  Chocolate, Vanilla, Butterscotch, Pistachio      Cone   \n",
       "2                   Chocolate, Vanilla, Coffee      Cone   \n",
       "3                      Chocolate, Butterscotch      Cone   \n",
       "4            Vanilla, Strawberry, Butterscotch       Tub   \n",
       "\n",
       "                                              Source  Type     Frequency  \\\n",
       "0       Supermarkets, Ice cream parlour/ restaurants  Unit   Once a week   \n",
       "1           Ice cream parlour/ restaurants, Minimart  Unit  Once a month   \n",
       "2  Ice cream parlour/ restaurants, Ice cream cart...  Unit  Once a month   \n",
       "3                     Ice cream parlour/ restaurants  Unit  Once a month   \n",
       "4                     Ice cream parlour/ restaurants  Unit  Once a month   \n",
       "\n",
       "   Price  Quality  Occasion  New_flavors  \n",
       "0    7.0     10.0         5          5.0  \n",
       "1    7.0      8.0        10          4.0  \n",
       "2    1.0     10.0         8          6.0  \n",
       "3    2.0     10.0         9          4.0  \n",
       "4    3.0     10.0         6          5.0  "
      ]
     },
     "execution_count": 99,
     "metadata": {},
     "output_type": "execute_result"
    }
   ],
   "source": [
    "df.head()"
   ]
  },
  {
   "cell_type": "markdown",
   "metadata": {},
   "source": [
    "## Preprocessing"
   ]
  },
  {
   "cell_type": "markdown",
   "metadata": {},
   "source": [
    "### Removing redundant columns"
   ]
  },
  {
   "cell_type": "code",
   "execution_count": 100,
   "metadata": {},
   "outputs": [
    {
     "data": {
      "text/plain": [
       "Index(['Timestamp', 'Email Address', 'Name', 'Neighbourhood', 'Rating',\n",
       "       'Brands', 'Flavor', 'Packaging', 'Source', 'Type', 'Frequency', 'Price',\n",
       "       'Quality', 'Occasion', 'New_flavors'],\n",
       "      dtype='object')"
      ]
     },
     "execution_count": 100,
     "metadata": {},
     "output_type": "execute_result"
    }
   ],
   "source": [
    "df.columns"
   ]
  },
  {
   "cell_type": "code",
   "execution_count": 101,
   "metadata": {},
   "outputs": [],
   "source": [
    "df = df.drop(['Timestamp', 'Email Address', 'Name', 'Type'], 1)"
   ]
  },
  {
   "cell_type": "code",
   "execution_count": 102,
   "metadata": {},
   "outputs": [
    {
     "data": {
      "image/png": "[encoded data removed]",
      "text/plain": [
       "<Figure size 432x288 with 1 Axes>"
      ]
     },
     "metadata": {},
     "output_type": "display_data"
    }
   ],
   "source": [
    "df.hist(column='Rating', bins=10)\n",
    "plt.show()"
   ]
  },
  {
   "cell_type": "markdown",
   "metadata": {},
   "source": [
    "### Dealing with null values"
   ]
  },
  {
   "cell_type": "code",
   "execution_count": 104,
   "metadata": {},
   "outputs": [
    {
     "data": {
      "text/plain": [
       "Neighbourhood    6\n",
       "Rating           0\n",
       "Brands           1\n",
       "Flavor           0\n",
       "Packaging        0\n",
       "Source           1\n",
       "Frequency        1\n",
       "Price            1\n",
       "Quality          2\n",
       "Occasion         0\n",
       "New_flavors      1\n",
       "dtype: int64"
      ]
     },
     "execution_count": 104,
     "metadata": {},
     "output_type": "execute_result"
    }
   ],
   "source": [
    "df.isnull().sum()"
   ]
  },
  {
   "cell_type": "code",
   "execution_count": 105,
   "metadata": {},
   "outputs": [],
   "source": [
    "def convStringToCat(df, column):\n",
    "    nullCols = df[column].isnull()\n",
    "    df[column].loc[nullCols] = 'NaN'\n",
    "    df[column] = df[column].str.lower().str.strip()\n",
    "    le = LabelEncoder()\n",
    "    le.fit(df[column].values)\n",
    "    df[column] = le.transform(df[column].values)\n",
    "    df[column][nullCols] = np.nan\n",
    "    return le"
   ]
  },
  {
   "cell_type": "code",
   "execution_count": 106,
   "metadata": {
    "scrolled": true
   },
   "outputs": [
    {
     "name": "stderr",
     "output_type": "stream",
     "text": [
      "/home/arvindo/miniconda3/lib/python3.6/site-packages/pandas/core/indexing.py:194: SettingWithCopyWarning: \n",
      "A value is trying to be set on a copy of a slice from a DataFrame\n",
      "\n",
      "See the caveats in the documentation: http://pandas.pydata.org/pandas-docs/stable/indexing.html#indexing-view-versus-copy\n",
      "  self._setitem_with_indexer(indexer, value)\n",
      "/home/arvindo/miniconda3/lib/python3.6/site-packages/ipykernel_launcher.py:8: SettingWithCopyWarning: \n",
      "A value is trying to be set on a copy of a slice from a DataFrame\n",
      "\n",
      "See the caveats in the documentation: http://pandas.pydata.org/pandas-docs/stable/indexing.html#indexing-view-versus-copy\n",
      "  \n"
     ]
    }
   ],
   "source": [
    "labelEncoders = {}\n",
    "catColumns = ['Neighbourhood', 'Frequency', 'Packaging']\n",
    "for catColumn in catColumns:\n",
    "    labelEncoders[catColumn] = convStringToCat(df, catColumn)"
   ]
  },
  {
   "cell_type": "code",
   "execution_count": 107,
   "metadata": {},
   "outputs": [
    {
     "data": {
      "text/plain": [
       "Neighbourhood    0\n",
       "Price            0\n",
       "Quality          0\n",
       "New_flavors      0\n",
       "Frequency        0\n",
       "dtype: int64"
      ]
     },
     "execution_count": 107,
     "metadata": {},
     "output_type": "execute_result"
    }
   ],
   "source": [
    "def removeMissingVals(col):\n",
    "    imp = Imputer(missing_values='NaN', strategy='most_frequent', axis=0)\n",
    "    df[col]=imp.fit_transform(df[[col]])\n",
    "\n",
    "removeMissingVals(\"Neighbourhood\")\n",
    "removeMissingVals(\"Price\")\n",
    "removeMissingVals(\"Quality\")\n",
    "removeMissingVals(\"New_flavors\")\n",
    "removeMissingVals(\"Frequency\")\n",
    "\n",
    "df[['Neighbourhood','Price','Quality', 'New_flavors', 'Frequency']].isnull().sum()"
   ]
  },
  {
   "cell_type": "markdown",
   "metadata": {},
   "source": [
    "### Splitting multivalued attribues"
   ]
  },
  {
   "cell_type": "code",
   "execution_count": 108,
   "metadata": {},
   "outputs": [],
   "source": [
    "def fetchOneHotColumns(df, column):\n",
    "    type_columns = [type_.split(\", \") if type(type_) != float else [] for type_ in df[column]]\n",
    "    types = list(set(chain.from_iterable(type_columns)))\n",
    "    typeDict = {}\n",
    "    for type_ in types:\n",
    "        typeDict[type_] = []\n",
    "    for type_set in type_columns:\n",
    "        for type_ in typeDict:\n",
    "            if type_ in type_set:\n",
    "                typeDict[type_].append(1)\n",
    "            else:\n",
    "                typeDict[type_].append(0)\n",
    "    df_types = pd.DataFrame(typeDict)\n",
    "    if 'any brand ' in df_types.columns:\n",
    "        df_types = df_types.drop('any brand ', axis=1)\n",
    "    return types, df_types"
   ]
  },
  {
   "cell_type": "code",
   "execution_count": 109,
   "metadata": {},
   "outputs": [],
   "source": [
    "multivaluedCols = ['Brands', 'Flavor', 'Source']\n",
    "multivaluedColDict = {}\n",
    "for col in multivaluedCols:\n",
    "    types, df_types = fetchOneHotColumns(df, col)\n",
    "    multivaluedColDict[col] = types\n",
    "    df = df.join(df_types).drop(col, axis=1)"
   ]
  },
  {
   "cell_type": "code",
   "execution_count": 110,
   "metadata": {},
   "outputs": [
    {
     "data": {
      "text/plain": [
       "Neighbourhood                     0\n",
       "Rating                            0\n",
       "Packaging                         0\n",
       "Frequency                         0\n",
       "Price                             0\n",
       "Quality                           0\n",
       "Occasion                          0\n",
       "New_flavors                       0\n",
       "Amul                              0\n",
       "Baskin-Robbins                    0\n",
       "Creambell                         0\n",
       "Dinshaw’s                         0\n",
       "Gelato Italiano                   0\n",
       "Havmor                            0\n",
       "Home made                         0\n",
       "Kwality Walls                     0\n",
       "Local Icecream shops              0\n",
       "London Dairy                      0\n",
       "Mother Dairy                      0\n",
       "Naturals                          0\n",
       "Vadilal                           0\n",
       "patanjali icecreame               0\n",
       "Butterscotch                      0\n",
       "Chocolate                         0\n",
       "Coffee                            0\n",
       "Custard apple                     0\n",
       "Mango                             0\n",
       "Mint                              0\n",
       "Oreo                              0\n",
       "Pistachio                         0\n",
       "Strawberry                        0\n",
       "Vanilla                           0\n",
       "mango                             0\n",
       "sabudaana                         0\n",
       "Convenience Stores                0\n",
       "Grocery store                     0\n",
       "Ice cream cart/ vehicle           0\n",
       "Ice cream parlour/ restaurants    0\n",
       "Minimart                          0\n",
       "Supermarkets                      0\n",
       "dtype: int64"
      ]
     },
     "execution_count": 110,
     "metadata": {},
     "output_type": "execute_result"
    }
   ],
   "source": [
    "df.isnull().sum()"
   ]
  },
  {
   "cell_type": "markdown",
   "metadata": {},
   "source": [
    "### Label encoding and one hot encoding"
   ]
  },
  {
   "cell_type": "markdown",
   "metadata": {},
   "source": [
    "## Visualization"
   ]
  },
  {
   "cell_type": "markdown",
   "metadata": {},
   "source": [
    "### Location wise distribution of flavors and brands"
   ]
  },
  {
   "cell_type": "code",
   "execution_count": 111,
   "metadata": {},
   "outputs": [],
   "source": [
    "brands = ['Amul', 'Baskin-Robbins', 'Creambell',\n",
    "       'Dinshaw’s', 'Gelato Italiano ', 'Havmor', 'Home made', 'Kwality Walls',\n",
    "       'Local Icecream shops', 'London Dairy', 'Mother Dairy', 'Naturals',\n",
    "       'Vadilal', 'patanjali icecreame']"
   ]
  },
  {
   "cell_type": "code",
   "execution_count": 112,
   "metadata": {},
   "outputs": [
    {
     "name": "stderr",
     "output_type": "stream",
     "text": [
      "/home/arvindo/miniconda3/lib/python3.6/site-packages/sklearn/preprocessing/label.py:151: DeprecationWarning: The truth value of an empty array is ambiguous. Returning False, but in future this will result in an error. Use `array.size > 0` to check that an array is not empty.\n",
      "  if diff:\n",
      "/home/arvindo/miniconda3/lib/python3.6/site-packages/sklearn/preprocessing/label.py:151: DeprecationWarning: The truth value of an empty array is ambiguous. Returning False, but in future this will result in an error. Use `array.size > 0` to check that an array is not empty.\n",
      "  if diff:\n",
      "/home/arvindo/miniconda3/lib/python3.6/site-packages/sklearn/preprocessing/label.py:151: DeprecationWarning: The truth value of an empty array is ambiguous. Returning False, but in future this will result in an error. Use `array.size > 0` to check that an array is not empty.\n",
      "  if diff:\n",
      "/home/arvindo/miniconda3/lib/python3.6/site-packages/sklearn/preprocessing/label.py:151: DeprecationWarning: The truth value of an empty array is ambiguous. Returning False, but in future this will result in an error. Use `array.size > 0` to check that an array is not empty.\n",
      "  if diff:\n",
      "/home/arvindo/miniconda3/lib/python3.6/site-packages/sklearn/preprocessing/label.py:151: DeprecationWarning: The truth value of an empty array is ambiguous. Returning False, but in future this will result in an error. Use `array.size > 0` to check that an array is not empty.\n",
      "  if diff:\n",
      "/home/arvindo/miniconda3/lib/python3.6/site-packages/sklearn/preprocessing/label.py:151: DeprecationWarning: The truth value of an empty array is ambiguous. Returning False, but in future this will result in an error. Use `array.size > 0` to check that an array is not empty.\n",
      "  if diff:\n",
      "/home/arvindo/miniconda3/lib/python3.6/site-packages/sklearn/preprocessing/label.py:151: DeprecationWarning: The truth value of an empty array is ambiguous. Returning False, but in future this will result in an error. Use `array.size > 0` to check that an array is not empty.\n",
      "  if diff:\n",
      "/home/arvindo/miniconda3/lib/python3.6/site-packages/sklearn/preprocessing/label.py:151: DeprecationWarning: The truth value of an empty array is ambiguous. Returning False, but in future this will result in an error. Use `array.size > 0` to check that an array is not empty.\n",
      "  if diff:\n",
      "/home/arvindo/miniconda3/lib/python3.6/site-packages/sklearn/preprocessing/label.py:151: DeprecationWarning: The truth value of an empty array is ambiguous. Returning False, but in future this will result in an error. Use `array.size > 0` to check that an array is not empty.\n",
      "  if diff:\n",
      "/home/arvindo/miniconda3/lib/python3.6/site-packages/sklearn/preprocessing/label.py:151: DeprecationWarning: The truth value of an empty array is ambiguous. Returning False, but in future this will result in an error. Use `array.size > 0` to check that an array is not empty.\n",
      "  if diff:\n",
      "/home/arvindo/miniconda3/lib/python3.6/site-packages/sklearn/preprocessing/label.py:151: DeprecationWarning: The truth value of an empty array is ambiguous. Returning False, but in future this will result in an error. Use `array.size > 0` to check that an array is not empty.\n",
      "  if diff:\n",
      "/home/arvindo/miniconda3/lib/python3.6/site-packages/sklearn/preprocessing/label.py:151: DeprecationWarning: The truth value of an empty array is ambiguous. Returning False, but in future this will result in an error. Use `array.size > 0` to check that an array is not empty.\n",
      "  if diff:\n",
      "/home/arvindo/miniconda3/lib/python3.6/site-packages/sklearn/preprocessing/label.py:151: DeprecationWarning: The truth value of an empty array is ambiguous. Returning False, but in future this will result in an error. Use `array.size > 0` to check that an array is not empty.\n",
      "  if diff:\n",
      "/home/arvindo/miniconda3/lib/python3.6/site-packages/sklearn/preprocessing/label.py:151: DeprecationWarning: The truth value of an empty array is ambiguous. Returning False, but in future this will result in an error. Use `array.size > 0` to check that an array is not empty.\n",
      "  if diff:\n",
      "/home/arvindo/miniconda3/lib/python3.6/site-packages/sklearn/preprocessing/label.py:151: DeprecationWarning: The truth value of an empty array is ambiguous. Returning False, but in future this will result in an error. Use `array.size > 0` to check that an array is not empty.\n",
      "  if diff:\n",
      "/home/arvindo/miniconda3/lib/python3.6/site-packages/sklearn/preprocessing/label.py:151: DeprecationWarning: The truth value of an empty array is ambiguous. Returning False, but in future this will result in an error. Use `array.size > 0` to check that an array is not empty.\n",
      "  if diff:\n",
      "/home/arvindo/miniconda3/lib/python3.6/site-packages/sklearn/preprocessing/label.py:151: DeprecationWarning: The truth value of an empty array is ambiguous. Returning False, but in future this will result in an error. Use `array.size > 0` to check that an array is not empty.\n",
      "  if diff:\n",
      "/home/arvindo/miniconda3/lib/python3.6/site-packages/sklearn/preprocessing/label.py:151: DeprecationWarning: The truth value of an empty array is ambiguous. Returning False, but in future this will result in an error. Use `array.size > 0` to check that an array is not empty.\n",
      "  if diff:\n",
      "/home/arvindo/miniconda3/lib/python3.6/site-packages/sklearn/preprocessing/label.py:151: DeprecationWarning: The truth value of an empty array is ambiguous. Returning False, but in future this will result in an error. Use `array.size > 0` to check that an array is not empty.\n",
      "  if diff:\n",
      "/home/arvindo/miniconda3/lib/python3.6/site-packages/sklearn/preprocessing/label.py:151: DeprecationWarning: The truth value of an empty array is ambiguous. Returning False, but in future this will result in an error. Use `array.size > 0` to check that an array is not empty.\n",
      "  if diff:\n",
      "/home/arvindo/miniconda3/lib/python3.6/site-packages/sklearn/preprocessing/label.py:151: DeprecationWarning: The truth value of an empty array is ambiguous. Returning False, but in future this will result in an error. Use `array.size > 0` to check that an array is not empty.\n",
      "  if diff:\n",
      "/home/arvindo/miniconda3/lib/python3.6/site-packages/sklearn/preprocessing/label.py:151: DeprecationWarning: The truth value of an empty array is ambiguous. Returning False, but in future this will result in an error. Use `array.size > 0` to check that an array is not empty.\n",
      "  if diff:\n",
      "/home/arvindo/miniconda3/lib/python3.6/site-packages/sklearn/preprocessing/label.py:151: DeprecationWarning: The truth value of an empty array is ambiguous. Returning False, but in future this will result in an error. Use `array.size > 0` to check that an array is not empty.\n",
      "  if diff:\n",
      "/home/arvindo/miniconda3/lib/python3.6/site-packages/sklearn/preprocessing/label.py:151: DeprecationWarning: The truth value of an empty array is ambiguous. Returning False, but in future this will result in an error. Use `array.size > 0` to check that an array is not empty.\n",
      "  if diff:\n",
      "/home/arvindo/miniconda3/lib/python3.6/site-packages/sklearn/preprocessing/label.py:151: DeprecationWarning: The truth value of an empty array is ambiguous. Returning False, but in future this will result in an error. Use `array.size > 0` to check that an array is not empty.\n",
      "  if diff:\n",
      "/home/arvindo/miniconda3/lib/python3.6/site-packages/sklearn/preprocessing/label.py:151: DeprecationWarning: The truth value of an empty array is ambiguous. Returning False, but in future this will result in an error. Use `array.size > 0` to check that an array is not empty.\n",
      "  if diff:\n",
      "/home/arvindo/miniconda3/lib/python3.6/site-packages/sklearn/preprocessing/label.py:151: DeprecationWarning: The truth value of an empty array is ambiguous. Returning False, but in future this will result in an error. Use `array.size > 0` to check that an array is not empty.\n",
      "  if diff:\n",
      "/home/arvindo/miniconda3/lib/python3.6/site-packages/sklearn/preprocessing/label.py:151: DeprecationWarning: The truth value of an empty array is ambiguous. Returning False, but in future this will result in an error. Use `array.size > 0` to check that an array is not empty.\n",
      "  if diff:\n",
      "/home/arvindo/miniconda3/lib/python3.6/site-packages/sklearn/preprocessing/label.py:151: DeprecationWarning: The truth value of an empty array is ambiguous. Returning False, but in future this will result in an error. Use `array.size > 0` to check that an array is not empty.\n",
      "  if diff:\n",
      "/home/arvindo/miniconda3/lib/python3.6/site-packages/sklearn/preprocessing/label.py:151: DeprecationWarning: The truth value of an empty array is ambiguous. Returning False, but in future this will result in an error. Use `array.size > 0` to check that an array is not empty.\n",
      "  if diff:\n",
      "/home/arvindo/miniconda3/lib/python3.6/site-packages/sklearn/preprocessing/label.py:151: DeprecationWarning: The truth value of an empty array is ambiguous. Returning False, but in future this will result in an error. Use `array.size > 0` to check that an array is not empty.\n",
      "  if diff:\n",
      "/home/arvindo/miniconda3/lib/python3.6/site-packages/sklearn/preprocessing/label.py:151: DeprecationWarning: The truth value of an empty array is ambiguous. Returning False, but in future this will result in an error. Use `array.size > 0` to check that an array is not empty.\n",
      "  if diff:\n",
      "/home/arvindo/miniconda3/lib/python3.6/site-packages/sklearn/preprocessing/label.py:151: DeprecationWarning: The truth value of an empty array is ambiguous. Returning False, but in future this will result in an error. Use `array.size > 0` to check that an array is not empty.\n",
      "  if diff:\n"
     ]
    },
    {
     "name": "stderr",
     "output_type": "stream",
     "text": [
      "/home/arvindo/miniconda3/lib/python3.6/site-packages/sklearn/preprocessing/label.py:151: DeprecationWarning: The truth value of an empty array is ambiguous. Returning False, but in future this will result in an error. Use `array.size > 0` to check that an array is not empty.\n",
      "  if diff:\n"
     ]
    }
   ],
   "source": [
    "neighCount = {}\n",
    "for Neighbourhood in df['Neighbourhood'].unique():\n",
    "    neighString = labelEncoders['Neighbourhood'].inverse_transform([int(Neighbourhood)])[0]\n",
    "    neighCount[labelEncoders['Neighbourhood'].inverse_transform([int(Neighbourhood)])[0]] = [len(df[(df['Neighbourhood'] == Neighbourhood) & (df[brand] == 1)]) for brand in brands]"
   ]
  },
  {
   "cell_type": "code",
   "execution_count": 113,
   "metadata": {},
   "outputs": [
    {
     "data": {
      "text/plain": [
       "{'asangaon': [1, 1, 1, 1, 0, 1, 0, 1, 0, 0, 1, 0, 1, 0],\n",
       " 'california': [1, 1, 1, 1, 0, 1, 0, 1, 0, 0, 1, 0, 1, 1],\n",
       " 'chembur': [15, 16, 3, 8, 0, 4, 1, 8, 1, 2, 6, 1, 5, 0],\n",
       " 'dadar': [1, 1, 0, 0, 0, 1, 0, 1, 0, 0, 1, 0, 0, 0],\n",
       " 'dombivli': [1, 0, 0, 0, 0, 0, 0, 1, 0, 0, 0, 0, 0, 0],\n",
       " 'ghatkopar': [1, 0, 0, 0, 0, 0, 0, 0, 0, 0, 0, 0, 0, 0],\n",
       " 'govandi': [1, 0, 0, 0, 0, 0, 0, 0, 0, 0, 0, 0, 0, 0],\n",
       " 'kalyan': [2, 1, 0, 1, 0, 2, 0, 2, 0, 0, 0, 0, 1, 0],\n",
       " 'kanjurmarg': [1, 0, 0, 0, 0, 0, 0, 1, 0, 0, 1, 1, 1, 0],\n",
       " 'kurla': [1, 1, 0, 0, 0, 0, 0, 1, 0, 0, 1, 0, 0, 0],\n",
       " 'lower parel': [1, 0, 1, 0, 0, 0, 0, 1, 0, 0, 0, 0, 0, 0],\n",
       " 'nerul': [1, 0, 0, 1, 0, 0, 0, 1, 0, 0, 1, 0, 1, 0],\n",
       " 'panvel': [1, 1, 0, 1, 0, 0, 0, 1, 0, 0, 1, 0, 1, 0],\n",
       " 'thane': [10, 4, 1, 3, 1, 4, 0, 5, 0, 0, 3, 0, 2, 0],\n",
       " 'ulhasnagar': [7, 5, 2, 2, 0, 1, 0, 7, 0, 0, 4, 0, 2, 0],\n",
       " 'vikholri,mumbai': [1, 0, 0, 0, 0, 0, 0, 1, 0, 0, 1, 0, 0, 0],\n",
       " 'vile parle': [1, 0, 0, 0, 0, 0, 0, 1, 0, 0, 1, 0, 1, 0]}"
      ]
     },
     "execution_count": 113,
     "metadata": {},
     "output_type": "execute_result"
    }
   ],
   "source": [
    "neighCount"
   ]
  },
  {
   "cell_type": "markdown",
   "metadata": {},
   "source": [
    "### Area wise dominating factor"
   ]
  },
  {
   "cell_type": "code",
   "execution_count": 114,
   "metadata": {},
   "outputs": [
    {
     "data": {
      "image/png": "[encoded data removed]",
      "text/plain": [
       "<Figure size 1728x720 with 1 Axes>"
      ]
     },
     "metadata": {},
     "output_type": "display_data"
    }
   ],
   "source": [
    "stacked_bar_data = pd.read_csv(\"./data/responses.csv\")\n",
    "stacked_bar_data[\"total\"] = (stacked_bar_data.Price + stacked_bar_data.Quality + stacked_bar_data.Occasion + stacked_bar_data.New_flavors)/4\n",
    "sns.set_style(\"white\")\n",
    "sns.set_context({\"figure.figsize\": (24, 10)})\n",
    "sns.barplot(x = stacked_bar_data.Neighbourhood, y = stacked_bar_data.total, color = \"red\")\n",
    "top_plot = sns.barplot(x = stacked_bar_data.Neighbourhood, y = stacked_bar_data.Quality, color = \"yellow\")\n",
    "top_plot = sns.barplot(x = stacked_bar_data.Neighbourhood, y = stacked_bar_data.Occasion, color = \"green\")\n",
    "top_plot = sns.barplot(x = stacked_bar_data.Neighbourhood, y = stacked_bar_data.New_flavors, color = \"black\")\n",
    "bottom_plot = sns.barplot(x = stacked_bar_data.Neighbourhood, y = stacked_bar_data.Price, color = \"#0000A3\")\n",
    "sns.despine(left=True)\n",
    "bottom_plot.set_ylabel(\"Factors\")\n",
    "bottom_plot.set_xlabel(\"Neighbourhood\")\n",
    "\n",
    "#Set fonts to consistent 16pt size\n",
    "for item in ([bottom_plot.xaxis.label, bottom_plot.yaxis.label] +\n",
    "             bottom_plot.get_xticklabels() + bottom_plot.get_yticklabels()):\n",
    "    item.set_fontsize(12)\n",
    "    \n",
    "Quality = plt.Rectangle((0,0),1,1,fc='yellow',  edgecolor = 'none')\n",
    "Occasion = plt.Rectangle((0,0),1,1,fc='green',  edgecolor = 'none')\n",
    "New_flavors = plt.Rectangle((0,0),1,1,fc='black',  edgecolor = 'none')\n",
    "Price = plt.Rectangle((0,0),1,1,fc='#0000A3',  edgecolor = 'none')\n",
    "l = plt.legend([Quality,Occasion,New_flavors,Price], ['Quality','Occasion','New_flavors','Price'], loc=2, ncol = 2, prop={'size':12})\n",
    "l.draw_frame(False)"
   ]
  },
  {
   "cell_type": "markdown",
   "metadata": {},
   "source": [
    "### Brand vs like-scale mapping"
   ]
  },
  {
   "cell_type": "markdown",
   "metadata": {},
   "source": [
    "### Source vs Location"
   ]
  },
  {
   "cell_type": "markdown",
   "metadata": {},
   "source": [
    "### Brand vs Flavor"
   ]
  },
  {
   "cell_type": "markdown",
   "metadata": {},
   "source": [
    "### Rating vs (Price, Quality, Occasion and new flavors)\n",
    "\n"
   ]
  },
  {
   "cell_type": "code",
   "execution_count": 115,
   "metadata": {},
   "outputs": [
    {
     "data": {
      "text/plain": [
       "Text(0,0.5,'Price')"
      ]
     },
     "execution_count": 115,
     "metadata": {},
     "output_type": "execute_result"
    },
    {
     "data": {
      "image/png": "[encoded data removed]",
      "text/plain": [
       "<Figure size 1728x720 with 1 Axes>"
      ]
     },
     "metadata": {},
     "output_type": "display_data"
    }
   ],
   "source": [
    "x=df.Rating.values\n",
    "y=df.Price.values\n",
    "plt.scatter(x,y)\n",
    "plt.title(\"Rating vs Price\")\n",
    "plt.xlabel(\"Rating\")\n",
    "plt.ylabel(\"Price\")"
   ]
  },
  {
   "cell_type": "code",
   "execution_count": 116,
   "metadata": {},
   "outputs": [
    {
     "data": {
      "text/plain": [
       "Text(0,0.5,'Quality')"
      ]
     },
     "execution_count": 116,
     "metadata": {},
     "output_type": "execute_result"
    },
    {
     "data": {
      "image/png": "[encoded data removed]",
      "text/plain": [
       "<Figure size 1728x720 with 1 Axes>"
      ]
     },
     "metadata": {},
     "output_type": "display_data"
    }
   ],
   "source": [
    "x=df.Rating.values\n",
    "y=df.Quality.values\n",
    "plt.scatter(x,y)\n",
    "plt.title(\"Rating vs Quality\")\n",
    "plt.xlabel(\"Rating\")\n",
    "plt.ylabel(\"Quality\")"
   ]
  },
  {
   "cell_type": "code",
   "execution_count": 117,
   "metadata": {},
   "outputs": [
    {
     "data": {
      "text/plain": [
       "Text(0,0.5,'Ocassion')"
      ]
     },
     "execution_count": 117,
     "metadata": {},
     "output_type": "execute_result"
    },
    {
     "data": {
      "image/png": "[encoded data removed]",
      "text/plain": [
       "<Figure size 1728x720 with 1 Axes>"
      ]
     },
     "metadata": {},
     "output_type": "display_data"
    }
   ],
   "source": [
    "x=df.Rating.values\n",
    "y=df.Occasion.values\n",
    "plt.scatter(x,y)\n",
    "plt.title(\"Rating vs Occasion\")\n",
    "plt.xlabel(\"Rating\")\n",
    "plt.ylabel(\"Ocassion\")"
   ]
  },
  {
   "cell_type": "code",
   "execution_count": 118,
   "metadata": {},
   "outputs": [
    {
     "data": {
      "text/plain": [
       "Text(0,0.5,'Flavors')"
      ]
     },
     "execution_count": 118,
     "metadata": {},
     "output_type": "execute_result"
    },
    {
     "data": {
      "image/png": "[encoded data removed]",
      "text/plain": [
       "<Figure size 1728x720 with 1 Axes>"
      ]
     },
     "metadata": {},
     "output_type": "display_data"
    }
   ],
   "source": [
    "x=df.Rating.values\n",
    "y=df.New_flavors.values\n",
    "plt.scatter(x,y)\n",
    "plt.title(\"Rating vs New Flavors\")\n",
    "plt.xlabel(\"Rating\")\n",
    "plt.ylabel(\"Flavors\")"
   ]
  },
  {
   "cell_type": "markdown",
   "metadata": {},
   "source": [
    "## Prediction"
   ]
  },
  {
   "cell_type": "code",
   "execution_count": 119,
   "metadata": {},
   "outputs": [
    {
     "name": "stdout",
     "output_type": "stream",
     "text": [
      "Coefficients: \n",
      " [-2.59195853e-02  1.14932909e+00  7.45690575e-01  1.83671125e-01\n",
      "  6.36827089e-01 -3.91684432e-01  7.52784791e-03  3.47957676e+00\n",
      "  7.81746007e-01  2.65018882e-01 -1.49450125e+00  2.80303935e+00\n",
      "  5.13782014e-01 -3.92669979e+00  1.67206757e-01 -1.98098835e+00\n",
      "  4.07505061e+00 -7.39829564e-01 -1.14033962e+00  9.65213472e-01\n",
      " -4.03121093e-01  1.31850372e+00  3.37148238e-01  6.35343954e-01\n",
      " -1.44691982e+00  4.07505061e+00 -1.46972004e+00  4.44089210e-15\n",
      "  1.05212815e-01 -1.40503412e+00 -2.48841029e-02 -1.44691982e+00\n",
      " -4.03121093e-01  1.37809903e-01  1.08637784e+00 -8.17751599e-03\n",
      " -5.79522653e-02  2.31912460e+00 -2.24437169e-01]\n",
      "Mean squared error: 11.13\n",
      "Variance score: -4.82\n"
     ]
    }
   ],
   "source": [
    "from sklearn import datasets, linear_model\n",
    "from sklearn.metrics import mean_squared_error, r2_score\n",
    "df.Rating.values\n",
    "df_Y = df.Rating.values\n",
    "df_X = df.drop(['Rating'],axis=1).values\n",
    "\n",
    "# Split the data into training/testing sets\n",
    "df_X_train = df_X[:40,:]\n",
    "df_X_test = df_X[40:,:]\n",
    "\n",
    "# Split the targets into training/testing sets\n",
    "df_y_train = df_Y[:40]\n",
    "df_y_test = df_Y[40:]\n",
    "\n",
    "# Create linear regression object\n",
    "regr = linear_model.LinearRegression()\n",
    "\n",
    "# Train the model using the training sets\n",
    "regr.fit(df_X_train, df_y_train)\n",
    "\n",
    "# Make predictions using the testing set\n",
    "df_y_pred = regr.predict(df_X_test)\n",
    "\n",
    "# The coefficients\n",
    "print('Coefficients: \\n', regr.coef_)\n",
    "# The mean squared error\n",
    "print(\"Mean squared error: %.2f\"\n",
    "      % mean_squared_error(df_y_test, df_y_pred))\n",
    "# Explained variance score: 1 is perfect prediction\n",
    "print('Variance score: %.2f' % r2_score(df_y_test, df_y_pred))\n",
    "\n"
   ]
  },
  {
   "cell_type": "code",
   "execution_count": 120,
   "metadata": {},
   "outputs": [
    {
     "data": {
      "text/plain": [
       "array([ 9.78596242, 12.98720295,  9.82172577,  7.52853569, 17.69714015,\n",
       "       10.01922005, 10.44832698,  7.71784984,  4.03905903, 15.80073846,\n",
       "        7.96495352, -0.19166288, 13.0200239 , 10.88729112,  7.89989271,\n",
       "        9.00941022,  6.53681518,  8.78432582])"
      ]
     },
     "execution_count": 120,
     "metadata": {},
     "output_type": "execute_result"
    }
   ],
   "source": [
    "df_y_pred"
   ]
  },
  {
   "cell_type": "code",
   "execution_count": null,
   "metadata": {},
   "outputs": [],
   "source": []
  },
  {
   "cell_type": "code",
   "execution_count": null,
   "metadata": {},
   "outputs": [],
   "source": []
  }
 ],
 "metadata": {
  "kernelspec": {
   "display_name": "Python 3",
   "language": "python",
   "name": "python3"
  },
  "language_info": {
   "codemirror_mode": {
    "name": "ipython",
    "version": 3
   },
   "file_extension": ".py",
   "mimetype": "text/x-python",
   "name": "python",
   "nbconvert_exporter": "python",
   "pygments_lexer": "ipython3",
   "version": "3.6.4"
  }
 },
 "nbformat": 4,
 "nbformat_minor": 2
}
