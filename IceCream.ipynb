{
 "cells": [
  {
   "cell_type": "code",
   "execution_count": 307,
   "metadata": {},
   "outputs": [],
   "source": [
    "import pandas as pd\n",
    "import numpy as np\n",
    "from itertools import chain\n",
    "from sklearn.preprocessing import LabelEncoder,Imputer\n",
    "import torch\n",
    "import torch.nn.functional as F"
   ]
  },
  {
   "cell_type": "code",
   "execution_count": 176,
   "metadata": {},
   "outputs": [],
   "source": [
    "df = pd.read_csv('./data/responses.csv')"
   ]
  },
  {
   "cell_type": "code",
   "execution_count": 177,
   "metadata": {
    "scrolled": true
   },
   "outputs": [
    {
     "data": {
      "text/html": [
       "<div>\n",
       "<style scoped>\n",
       "    .dataframe tbody tr th:only-of-type {\n",
       "        vertical-align: middle;\n",
       "    }\n",
       "\n",
       "    .dataframe tbody tr th {\n",
       "        vertical-align: top;\n",
       "    }\n",
       "\n",
       "    .dataframe thead th {\n",
       "        text-align: right;\n",
       "    }\n",
       "</style>\n",
       "<table border=\"1\" class=\"dataframe\">\n",
       "  <thead>\n",
       "    <tr style=\"text-align: right;\">\n",
       "      <th></th>\n",
       "      <th>Timestamp</th>\n",
       "      <th>Email Address</th>\n",
       "      <th>Name</th>\n",
       "      <th>Neighbourhood</th>\n",
       "      <th>Rating</th>\n",
       "      <th>Brands</th>\n",
       "      <th>Flavor</th>\n",
       "      <th>Packaging</th>\n",
       "      <th>Source</th>\n",
       "      <th>Type</th>\n",
       "      <th>Frequency</th>\n",
       "      <th>Price</th>\n",
       "      <th>Quality</th>\n",
       "      <th>Occasion</th>\n",
       "      <th>New_flavors</th>\n",
       "    </tr>\n",
       "  </thead>\n",
       "  <tbody>\n",
       "    <tr>\n",
       "      <th>0</th>\n",
       "      <td>2/6/2018 19:12:51</td>\n",
       "      <td>NaN</td>\n",
       "      <td>Neha Baranwal</td>\n",
       "      <td>Thane</td>\n",
       "      <td>10</td>\n",
       "      <td>Mother Dairy, Amul</td>\n",
       "      <td>Chocolate, Butterscotch</td>\n",
       "      <td>Cone</td>\n",
       "      <td>Supermarkets, Ice cream parlour/ restaurants</td>\n",
       "      <td>Unit</td>\n",
       "      <td>Once a week</td>\n",
       "      <td>7.0</td>\n",
       "      <td>10.0</td>\n",
       "      <td>5</td>\n",
       "      <td>5.0</td>\n",
       "    </tr>\n",
       "    <tr>\n",
       "      <th>1</th>\n",
       "      <td>2/6/2018 19:17:21</td>\n",
       "      <td>NaN</td>\n",
       "      <td>Arvind Narayanan</td>\n",
       "      <td>Chembur</td>\n",
       "      <td>8</td>\n",
       "      <td>Dinshaw’s, Amul, Kwality Walls</td>\n",
       "      <td>Chocolate, Vanilla, Butterscotch, Pistachio</td>\n",
       "      <td>Cone</td>\n",
       "      <td>Ice cream parlour/ restaurants, Minimart</td>\n",
       "      <td>Unit</td>\n",
       "      <td>Once a month</td>\n",
       "      <td>7.0</td>\n",
       "      <td>8.0</td>\n",
       "      <td>10</td>\n",
       "      <td>4.0</td>\n",
       "    </tr>\n",
       "    <tr>\n",
       "      <th>2</th>\n",
       "      <td>2/6/2018 21:01:58</td>\n",
       "      <td>2015bhavika.adnani@ves.ac.in</td>\n",
       "      <td>Bhavika</td>\n",
       "      <td>Thane</td>\n",
       "      <td>8</td>\n",
       "      <td>Baskin-Robbins, Amul, Kwality Walls</td>\n",
       "      <td>Chocolate, Vanilla, Coffee</td>\n",
       "      <td>Cone</td>\n",
       "      <td>Ice cream parlour/ restaurants, Ice cream cart...</td>\n",
       "      <td>Unit</td>\n",
       "      <td>Once a month</td>\n",
       "      <td>1.0</td>\n",
       "      <td>10.0</td>\n",
       "      <td>8</td>\n",
       "      <td>6.0</td>\n",
       "    </tr>\n",
       "    <tr>\n",
       "      <th>3</th>\n",
       "      <td>2/6/2018 21:02:15</td>\n",
       "      <td>2015mayank.agrawal@ves.ac.in</td>\n",
       "      <td>Mayank Agrawal</td>\n",
       "      <td>Chembur</td>\n",
       "      <td>9</td>\n",
       "      <td>Baskin-Robbins, Amul, Creambell</td>\n",
       "      <td>Chocolate, Butterscotch</td>\n",
       "      <td>Cone</td>\n",
       "      <td>Ice cream parlour/ restaurants</td>\n",
       "      <td>Unit</td>\n",
       "      <td>Once a month</td>\n",
       "      <td>2.0</td>\n",
       "      <td>10.0</td>\n",
       "      <td>9</td>\n",
       "      <td>4.0</td>\n",
       "    </tr>\n",
       "    <tr>\n",
       "      <th>4</th>\n",
       "      <td>2/6/2018 21:09:39</td>\n",
       "      <td>2015bhuvanesh.goplani@ves.ac.in</td>\n",
       "      <td>Bhuvanesh Goplani</td>\n",
       "      <td>Chembur</td>\n",
       "      <td>4</td>\n",
       "      <td>Baskin-Robbins, Home made</td>\n",
       "      <td>Vanilla, Strawberry, Butterscotch</td>\n",
       "      <td>Tub</td>\n",
       "      <td>Ice cream parlour/ restaurants</td>\n",
       "      <td>Unit</td>\n",
       "      <td>Once a month</td>\n",
       "      <td>3.0</td>\n",
       "      <td>10.0</td>\n",
       "      <td>6</td>\n",
       "      <td>5.0</td>\n",
       "    </tr>\n",
       "  </tbody>\n",
       "</table>\n",
       "</div>"
      ],
      "text/plain": [
       "           Timestamp                    Email Address               Name  \\\n",
       "0  2/6/2018 19:12:51                              NaN      Neha Baranwal   \n",
       "1  2/6/2018 19:17:21                              NaN   Arvind Narayanan   \n",
       "2  2/6/2018 21:01:58     2015bhavika.adnani@ves.ac.in           Bhavika    \n",
       "3  2/6/2018 21:02:15     2015mayank.agrawal@ves.ac.in     Mayank Agrawal   \n",
       "4  2/6/2018 21:09:39  2015bhuvanesh.goplani@ves.ac.in  Bhuvanesh Goplani   \n",
       "\n",
       "  Neighbourhood  Rating                               Brands  \\\n",
       "0         Thane      10                   Mother Dairy, Amul   \n",
       "1       Chembur       8       Dinshaw’s, Amul, Kwality Walls   \n",
       "2         Thane       8  Baskin-Robbins, Amul, Kwality Walls   \n",
       "3       Chembur       9      Baskin-Robbins, Amul, Creambell   \n",
       "4       Chembur       4            Baskin-Robbins, Home made   \n",
       "\n",
       "                                        Flavor Packaging  \\\n",
       "0                      Chocolate, Butterscotch      Cone   \n",
       "1  Chocolate, Vanilla, Butterscotch, Pistachio      Cone   \n",
       "2                   Chocolate, Vanilla, Coffee      Cone   \n",
       "3                      Chocolate, Butterscotch      Cone   \n",
       "4            Vanilla, Strawberry, Butterscotch       Tub   \n",
       "\n",
       "                                              Source  Type     Frequency  \\\n",
       "0       Supermarkets, Ice cream parlour/ restaurants  Unit   Once a week   \n",
       "1           Ice cream parlour/ restaurants, Minimart  Unit  Once a month   \n",
       "2  Ice cream parlour/ restaurants, Ice cream cart...  Unit  Once a month   \n",
       "3                     Ice cream parlour/ restaurants  Unit  Once a month   \n",
       "4                     Ice cream parlour/ restaurants  Unit  Once a month   \n",
       "\n",
       "   Price  Quality  Occasion  New_flavors  \n",
       "0    7.0     10.0         5          5.0  \n",
       "1    7.0      8.0        10          4.0  \n",
       "2    1.0     10.0         8          6.0  \n",
       "3    2.0     10.0         9          4.0  \n",
       "4    3.0     10.0         6          5.0  "
      ]
     },
     "execution_count": 177,
     "metadata": {},
     "output_type": "execute_result"
    }
   ],
   "source": [
    "df.head()"
   ]
  },
  {
   "cell_type": "markdown",
   "metadata": {},
   "source": [
    "## Preprocessing"
   ]
  },
  {
   "cell_type": "markdown",
   "metadata": {},
   "source": [
    "### Removing redundant columns"
   ]
  },
  {
   "cell_type": "code",
   "execution_count": 178,
   "metadata": {},
   "outputs": [
    {
     "data": {
      "text/plain": [
       "Index(['Timestamp', 'Email Address', 'Name', 'Neighbourhood', 'Rating',\n",
       "       'Brands', 'Flavor', 'Packaging', 'Source', 'Type', 'Frequency', 'Price',\n",
       "       'Quality', 'Occasion', 'New_flavors'],\n",
       "      dtype='object')"
      ]
     },
     "execution_count": 178,
     "metadata": {},
     "output_type": "execute_result"
    }
   ],
   "source": [
    "df.columns"
   ]
  },
  {
   "cell_type": "code",
   "execution_count": 179,
   "metadata": {},
   "outputs": [],
   "source": [
    "df = df.drop(['Timestamp', 'Email Address', 'Name', 'Type'], 1)"
   ]
  },
  {
   "cell_type": "markdown",
   "metadata": {},
   "source": [
    "### Dealing with null values"
   ]
  },
  {
   "cell_type": "code",
   "execution_count": 180,
   "metadata": {},
   "outputs": [
    {
     "data": {
      "text/plain": [
       "Neighbourhood    6\n",
       "Rating           0\n",
       "Brands           1\n",
       "Flavor           0\n",
       "Packaging        0\n",
       "Source           1\n",
       "Frequency        1\n",
       "Price            1\n",
       "Quality          2\n",
       "Occasion         0\n",
       "New_flavors      1\n",
       "dtype: int64"
      ]
     },
     "execution_count": 180,
     "metadata": {},
     "output_type": "execute_result"
    }
   ],
   "source": [
    "df.isnull().sum()"
   ]
  },
  {
   "cell_type": "code",
   "execution_count": 181,
   "metadata": {},
   "outputs": [],
   "source": [
    "def convStringToCat(df, column):\n",
    "    nullCols = df[column].isnull()\n",
    "    df[column][nullCols] = 'NaN'\n",
    "    df[column] = df[column].str.lower().str.strip()\n",
    "    le = LabelEncoder()\n",
    "    le.fit(df[column].values)\n",
    "    df[column] = le.transform(df[column].values)\n",
    "    df[column][nullCols] = np.nan\n",
    "    return le"
   ]
  },
  {
   "cell_type": "code",
   "execution_count": 182,
   "metadata": {},
   "outputs": [
    {
     "name": "stderr",
     "output_type": "stream",
     "text": [
      "/home/arvindo/miniconda3/lib/python3.6/site-packages/ipykernel_launcher.py:3: SettingWithCopyWarning: \n",
      "A value is trying to be set on a copy of a slice from a DataFrame\n",
      "\n",
      "See the caveats in the documentation: http://pandas.pydata.org/pandas-docs/stable/indexing.html#indexing-view-versus-copy\n",
      "  This is separate from the ipykernel package so we can avoid doing imports until\n",
      "/home/arvindo/miniconda3/lib/python3.6/site-packages/ipykernel_launcher.py:8: SettingWithCopyWarning: \n",
      "A value is trying to be set on a copy of a slice from a DataFrame\n",
      "\n",
      "See the caveats in the documentation: http://pandas.pydata.org/pandas-docs/stable/indexing.html#indexing-view-versus-copy\n",
      "  \n"
     ]
    }
   ],
   "source": [
    "classes = ['Neighbourhood', 'Frequency', 'Packaging']\n",
    "labelEncoders = {}\n",
    "for class_ in classes:\n",
    "    labelEncoders[class_] = convStringToCat(df, class_)"
   ]
  },
  {
   "cell_type": "code",
   "execution_count": 183,
   "metadata": {},
   "outputs": [
    {
     "data": {
      "text/plain": [
       "Neighbourhood    0\n",
       "Price            0\n",
       "Quality          0\n",
       "New_flavors      0\n",
       "Frequency        0\n",
       "dtype: int64"
      ]
     },
     "execution_count": 183,
     "metadata": {},
     "output_type": "execute_result"
    }
   ],
   "source": [
    "def removeMissingVals(col):\n",
    "    imp = Imputer(missing_values='NaN', strategy='most_frequent', axis=0)\n",
    "    df[col]=imp.fit_transform(df[[col]])\n",
    "\n",
    "removeMissingVals(\"Neighbourhood\")\n",
    "removeMissingVals(\"Price\")\n",
    "removeMissingVals(\"Quality\")\n",
    "removeMissingVals(\"New_flavors\")\n",
    "removeMissingVals(\"Frequency\")\n",
    "\n",
    "df[['Neighbourhood','Price','Quality', 'New_flavors', 'Frequency']].isnull().sum()"
   ]
  },
  {
   "cell_type": "code",
   "execution_count": null,
   "metadata": {},
   "outputs": [],
   "source": []
  },
  {
   "cell_type": "markdown",
   "metadata": {},
   "source": [
    "### Splitting multivalued attribues"
   ]
  },
  {
   "cell_type": "code",
   "execution_count": 184,
   "metadata": {},
   "outputs": [],
   "source": [
    "def fetchOneHotColumns(df, column):\n",
    "    type_columns = [type_.split(\", \") if type(type_) != float else [] for type_ in df[column]]\n",
    "    types = list(set(chain.from_iterable(type_columns)))\n",
    "    typeDict = {}\n",
    "    for type_ in types:\n",
    "        typeDict[type_] = []\n",
    "    for type_set in type_columns:\n",
    "        for type_ in typeDict:\n",
    "            if type_ in type_set:\n",
    "                typeDict[type_].append(1)\n",
    "            else:\n",
    "                typeDict[type_].append(0)\n",
    "    df_types = pd.DataFrame(typeDict)\n",
    "    if 'any brand ' in df_types.columns:\n",
    "        df_types = df_types.drop('any brand ', axis=1)\n",
    "    return types, df_types"
   ]
  },
  {
   "cell_type": "code",
   "execution_count": 185,
   "metadata": {},
   "outputs": [],
   "source": [
    "multivaluedCols = ['Brands', 'Flavor', 'Source']\n",
    "multivaluedColDict = {}\n",
    "for col in multivaluedCols:\n",
    "    types, df_types = fetchOneHotColumns(df, col)\n",
    "    multivaluedColDict[col] = types\n",
    "    df = df.join(df_types).drop(col, axis=1)"
   ]
  },
  {
   "cell_type": "code",
   "execution_count": 186,
   "metadata": {},
   "outputs": [
    {
     "data": {
      "text/plain": [
       "Neighbourhood                     0\n",
       "Rating                            0\n",
       "Packaging                         0\n",
       "Frequency                         0\n",
       "Price                             0\n",
       "Quality                           0\n",
       "Occasion                          0\n",
       "New_flavors                       0\n",
       "Amul                              0\n",
       "Baskin-Robbins                    0\n",
       "Creambell                         0\n",
       "Dinshaw’s                         0\n",
       "Gelato Italiano                   0\n",
       "Havmor                            0\n",
       "Home made                         0\n",
       "Kwality Walls                     0\n",
       "Local Icecream shops              0\n",
       "London Dairy                      0\n",
       "Mother Dairy                      0\n",
       "Naturals                          0\n",
       "Vadilal                           0\n",
       "patanjali icecreame               0\n",
       "Butterscotch                      0\n",
       "Chocolate                         0\n",
       "Coffee                            0\n",
       "Custard apple                     0\n",
       "Mango                             0\n",
       "Mint                              0\n",
       "Oreo                              0\n",
       "Pistachio                         0\n",
       "Strawberry                        0\n",
       "Vanilla                           0\n",
       "mango                             0\n",
       "sabudaana                         0\n",
       "Convenience Stores                0\n",
       "Grocery store                     0\n",
       "Ice cream cart/ vehicle           0\n",
       "Ice cream parlour/ restaurants    0\n",
       "Minimart                          0\n",
       "Supermarkets                      0\n",
       "dtype: int64"
      ]
     },
     "execution_count": 186,
     "metadata": {},
     "output_type": "execute_result"
    }
   ],
   "source": [
    "df.isnull().sum()"
   ]
  },
  {
   "cell_type": "markdown",
   "metadata": {},
   "source": [
    "### Label encoding and one hot encoding"
   ]
  },
  {
   "cell_type": "markdown",
   "metadata": {},
   "source": [
    "## Visualization"
   ]
  },
  {
   "cell_type": "markdown",
   "metadata": {},
   "source": [
    "### Location wise distribution of flavors and brands"
   ]
  },
  {
   "cell_type": "markdown",
   "metadata": {},
   "source": [
    "### Area wise dominating factor"
   ]
  },
  {
   "cell_type": "markdown",
   "metadata": {},
   "source": [
    "### Brand vs like-scale mapping"
   ]
  },
  {
   "cell_type": "markdown",
   "metadata": {},
   "source": [
    "### Source vs Location"
   ]
  },
  {
   "cell_type": "markdown",
   "metadata": {},
   "source": [
    "### Brand vs Flavor"
   ]
  },
  {
   "cell_type": "markdown",
   "metadata": {},
   "source": [
    "### Rating vs (Price, Quality, Occasion and )"
   ]
  },
  {
   "cell_type": "markdown",
   "metadata": {},
   "source": [
    "## Prediction"
   ]
  },
  {
   "cell_type": "markdown",
   "metadata": {},
   "source": [
    "### Categorical embeddings"
   ]
  },
  {
   "cell_type": "code",
   "execution_count": 246,
   "metadata": {},
   "outputs": [],
   "source": [
    "def getEmbeddings(inputSize, embeddingSize):\n",
    "    return torch.nn.Embedding(inputSize, embeddingSize)"
   ]
  },
  {
   "cell_type": "code",
   "execution_count": 294,
   "metadata": {},
   "outputs": [],
   "source": [
    "def getIndicesDict(df, column):\n",
    "    return {j:i for i, j in zip(range(len(df[column].unique())), df[column].unique())}"
   ]
  },
  {
   "cell_type": "code",
   "execution_count": 248,
   "metadata": {},
   "outputs": [],
   "source": [
    "embeddings = {col: getEmbeddings(len(indices[col]), (len(indices[col]) + 1) // 2) for col in catColumns}"
   ]
  },
  {
   "cell_type": "code",
   "execution_count": 249,
   "metadata": {},
   "outputs": [
    {
     "data": {
      "text/plain": [
       "{'Neighbourhood': Embedding(17, 9), 'Packaging': Embedding(4, 2)}"
      ]
     },
     "execution_count": 249,
     "metadata": {},
     "output_type": "execute_result"
    }
   ],
   "source": [
    "embeddings"
   ]
  },
  {
   "cell_type": "code",
   "execution_count": 250,
   "metadata": {},
   "outputs": [
    {
     "data": {
      "text/plain": [
       "Variable containing:\n",
       "-0.6498 -0.6406\n",
       "[torch.FloatTensor of size 1x2]"
      ]
     },
     "execution_count": 250,
     "metadata": {},
     "output_type": "execute_result"
    }
   ],
   "source": [
    "embeddings['Packaging'](torch.autograd.Variable(torch.LongTensor([1])))"
   ]
  },
  {
   "cell_type": "code",
   "execution_count": 295,
   "metadata": {},
   "outputs": [],
   "source": [
    "def getEmbAndIndices(df):\n",
    "    catColumns = ['Neighbourhood', 'Packaging']\n",
    "    indices = {col: getIndicesDict(df, col) for col in catColumns}\n",
    "    embeddings = {col: getEmbeddings(len(indices[col]), (len(indices[col]) + 1) // 2) for col in catColumns}\n",
    "    indices = {col: getIndicesDict(df, col) for col in catColumns}\n",
    "    multivalCols = {'brand': ['Amul', 'Baskin-Robbins', 'Creambell','Dinshaw’s', 'Gelato Italiano ', \n",
    "                     'Havmor', 'Home made', 'Kwality Walls',\n",
    "                    'Local Icecream shops', 'London Dairy', 'Mother Dairy', 'Naturals', \n",
    "                     'Vadilal', 'patanjali icecreame'],\n",
    "                   'flavor': ['Butterscotch', 'Chocolate', 'Coffee', 'Custard apple ', \n",
    "                    'Mango', 'Mint', 'Oreo', 'Pistachio', 'Strawberry',\n",
    "                    'Vanilla', 'mango ', 'sabudaana']}\n",
    "    for multivalCol in multivalCols:\n",
    "        indices[multivalCol] = {col:i for i,col in zip(range(len(multivalCols[multivalCol])), multivalCols[multivalCol])}\n",
    "        embeddings[multivalCol] = getEmbeddings(len(multivalCols[multivalCol]), (len(multivalCols[multivalCol]) + 1) // 2)\n",
    "    return embeddings, multivalCols"
   ]
  },
  {
   "cell_type": "code",
   "execution_count": 296,
   "metadata": {},
   "outputs": [],
   "source": [
    "embeddings, multivalCols = getEmbAndIndices(df)"
   ]
  },
  {
   "cell_type": "code",
   "execution_count": 298,
   "metadata": {},
   "outputs": [],
   "source": [
    "def getEmbeddedrow(row, embeddings, multivalCols):\n",
    "    x = embeddings['Neighbourhood'](torch.autograd.Variable(torch.LongTensor([indices['Neighbourhood'][row[-2]]])))\n",
    "    y = embeddings['Packaging'](torch.autograd.Variable(torch.LongTensor([indices['Packaging'][row[-1]]])))\n",
    "    x = torch.cat([x, y], dim=1)\n",
    "    cumulative = 0\n",
    "    for i, multivalCol in enumerate(multivalCols):\n",
    "        length = len(multivalCols[multivalCol])\n",
    "        for j, cat in enumerate(row[cumulative:cumulative + length]):\n",
    "            if cat == 1:\n",
    "                y = embeddings[multivalCol](torch.autograd.Variable(torch.LongTensor([j])))\n",
    "            else:\n",
    "                y = torch.autograd.Variable(torch.FloatTensor(torch.zeros(1, embeddings[multivalCol].embedding_dim)), requires_grad=False)\n",
    "            x = torch.cat([x, y], dim=1)\n",
    "    return x"
   ]
  },
  {
   "cell_type": "code",
   "execution_count": null,
   "metadata": {},
   "outputs": [],
   "source": [
    "x_numpy = df[ multivalCols['brand'] + multivalCols['flavor'] + [\"Neighbourhood\", \"Packaging\"]].as_matrix()"
   ]
  },
  {
   "cell_type": "code",
   "execution_count": 279,
   "metadata": {},
   "outputs": [],
   "source": [
    "X = torch.autograd.Variable(torch.FloatTensor(181, 1))"
   ]
  },
  {
   "cell_type": "code",
   "execution_count": 301,
   "metadata": {},
   "outputs": [],
   "source": [
    "x_numpy = df[ multivalCols['brand'] + multivalCols['flavor'] + [\"Neighbourhood\", \"Packaging\"]].as_matrix()\n",
    "X = getEmbeddedrow(x_numpy[0], embeddings, multivalCols)\n",
    "for row in x_numpy[1:]:\n",
    "    Y = getEmbeddedrow(row, embeddings, multivalCols)\n",
    "    X = torch.cat([X, Y])"
   ]
  },
  {
   "cell_type": "code",
   "execution_count": 333,
   "metadata": {},
   "outputs": [],
   "source": [
    "class DeepNeuroModel(torch.nn.Module):\n",
    "    def __init__(self):\n",
    "        super(DeepNeuroModel, self).__init__()\n",
    "        self.l1 = torch.nn.Linear(181, 210)\n",
    "        self.l2 = torch.nn.Linear(210, 50)\n",
    "        self.l3 = torch.nn.Linear(50, 10)\n",
    "        self.criterion = torch.nn.BCELoss(size_average=True)\n",
    "        self.optimizer = torch.optim.SGD(self.parameters(), lr=0.01)\n",
    "        self.embeddings, self.multivalCols = getEmbAndIndices(df)\n",
    "\n",
    "    def forward(self, x_numpy):\n",
    "        X = getEmbeddedrow(x_numpy[0], embeddings, multivalCols)\n",
    "        for row in x_numpy[1:]:\n",
    "            Y = getEmbeddedrow(row, embeddings, multivalCols)\n",
    "            X = torch.cat([X, Y])  \n",
    "        out1 = F.relu(self.l1(X))\n",
    "        out2 = F.relu(self.l2(out1))\n",
    "        y_pred = F.sigmoid(self.l3(out2))\n",
    "        return y_pred\n",
    "\n",
    "    def optimize(self, y, y_pred, epoch):\n",
    "        loss = self.criterion(y_pred, y)\n",
    "        if epoch % 50 == 0:\n",
    "            print(\"Loss =\", loss.data[0])\n",
    "        self.optimizer.zero_grad()\n",
    "        loss.backward()\n",
    "        self.optimizer.step()"
   ]
  },
  {
   "cell_type": "code",
   "execution_count": 334,
   "metadata": {},
   "outputs": [],
   "source": [
    "def one_hot(batch,depth):\n",
    "    ones = torch.sparse.torch.eye(depth)\n",
    "    return ones.index_select(0,batch)"
   ]
  },
  {
   "cell_type": "code",
   "execution_count": null,
   "metadata": {},
   "outputs": [
    {
     "name": "stdout",
     "output_type": "stream",
     "text": [
      "Loss = 0.7073090076446533\n",
      "Loss = 0.6855776309967041\n",
      "Loss = 0.6670135259628296\n",
      "Loss = 0.6494055390357971\n",
      "Loss = 0.6309511661529541\n",
      "Loss = 0.6100621223449707\n",
      "Loss = 0.5848496556282043\n",
      "Loss = 0.5538166761398315\n"
     ]
    }
   ],
   "source": [
    "x_numpy = df[ multivalCols['brand'] + multivalCols['flavor'] + [\"Neighbourhood\", \"Packaging\"]].as_matrix()\n",
    "y = torch.autograd.Variable(one_hot(torch.LongTensor((df['Rating'] - 1).tolist()), 10), requires_grad=False)\n",
    "\n",
    "model = DeepNeuroModel()\n",
    "\n",
    "for i in range(500):\n",
    "    y_pred = model.forward(x_numpy)\n",
    "    model.optimize(y, y_pred, i)"
   ]
  },
  {
   "cell_type": "code",
   "execution_count": 319,
   "metadata": {},
   "outputs": [],
   "source": []
  },
  {
   "cell_type": "code",
   "execution_count": null,
   "metadata": {},
   "outputs": [],
   "source": []
  }
 ],
 "metadata": {
  "kernelspec": {
   "display_name": "Python 3",
   "language": "python",
   "name": "python3"
  },
  "language_info": {
   "codemirror_mode": {
    "name": "ipython",
    "version": 3
   },
   "file_extension": ".py",
   "mimetype": "text/x-python",
   "name": "python",
   "nbconvert_exporter": "python",
   "pygments_lexer": "ipython3",
   "version": "3.6.4"
  }
 },
 "nbformat": 4,
 "nbformat_minor": 2
}
